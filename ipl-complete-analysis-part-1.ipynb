{
 "cells": [
  {
   "cell_type": "markdown",
   "metadata": {},
   "source": [
    "If you like the notebook, Please Upvote as it will keep me motivated in doing great things ahead. Thanks!!<p>\n",
    "I have used the only **Plotly** in visualisations<br>\n",
    "So all maps/charts are **INTERACTIVE**\n",
    "    \n",
    "#### Please check part 2 : [IPL Analysis Part 2 (Fantasy League Edition)](https://www.kaggle.com/dude431/ipl-analysis-part-2-fantasy-league-edition)"
   ]
  },
  {
   "cell_type": "markdown",
   "metadata": {},
   "source": [
    "![](https://img1.hotstarext.com/image/upload/f_auto,t_hcdl/sources/r1/cms/prod/7209/437209-h)"
   ]
  },
  {
   "cell_type": "markdown",
   "metadata": {},
   "source": [
    "## Loading Libraries"
   ]
  },
  {
   "cell_type": "code",
   "execution_count": 1,
   "metadata": {
    "_cell_guid": "b1076dfc-b9ad-4769-8c92-a6c4dae69d19",
    "_uuid": "8f2839f25d086af736a60e9eeb907d3b93b6e0e5"
   },
   "outputs": [],
   "source": [
    "import numpy as np \n",
    "import pandas as pd\n",
    "import os\n",
    "\n",
    "#import plotly.plotly as py\n",
    "#from plotly import tools\n",
    "#from plotly.offline import init_notebook_mode,iplot\n",
    "#init_notebook_mode(connected=False)\n",
    "#import plotly.figure_factory as ff\n",
    "#import plotly.graph_objs as go\n",
    "import matplotlib.pyplot as plt"
   ]
  },
  {
   "cell_type": "markdown",
   "metadata": {},
   "source": [
    "## Loading Dataset"
   ]
  },
  {
   "cell_type": "code",
   "execution_count": 2,
   "metadata": {
    "_cell_guid": "79c7e3d0-c299-4dcb-8224-4455121ee9b0",
    "_uuid": "d629ff2d2480ee46fbb7e2d37f6b5fab8052498a"
   },
   "outputs": [],
   "source": [
    "deliveries = pd.read_csv('deliveries.csv')\n",
    "matches = pd.read_csv('matches.csv')"
   ]
  },
  {
   "cell_type": "code",
   "execution_count": 3,
   "metadata": {},
   "outputs": [],
   "source": [
    "#Since umpire3 contains all null values we can omit the column\n",
    "matches.drop('umpire3',axis = 1, inplace=True)"
   ]
  },
  {
   "cell_type": "code",
   "execution_count": 4,
   "metadata": {
    "_kg_hide-input": true
   },
   "outputs": [],
   "source": [
    "x=['Sunrisers Hyderabad', 'Mumbai Indians', 'Gujarat Lions',\n",
    "    'Rising Pune Supergiant', 'Royal Challengers Bangalore',\n",
    "    'Kolkata Knight Riders', 'Delhi Daredevils', 'Kings XI Punjab',\n",
    "    'Chennai Super Kings', 'Rajasthan Royals', 'Deccan Chargers',\n",
    "    'Kochi Tuskers Kerala', 'Pune Warriors', 'Rising Pune Supergiants', 'Delhi Capitals']\n",
    "\n",
    "y = ['SRH','MI','GL','RPS','RCB','KKR','DC','KXIP','CSK','RR','SRH','KTK','PW','RPS','DC']\n",
    "\n",
    "matches.replace(x,y,inplace = True)\n",
    "deliveries.replace(x,y,inplace = True)"
   ]
  },
  {
   "cell_type": "markdown",
   "metadata": {},
   "source": [
    "In December 2018, the team changed its name from the Delhi Daredevils to the Delhi Capitals<br>\n",
    "Sunrisers Hyderabad replaced the Deccan Chargers in 2012 and debuted in 2013 (But i consider them same in this kernel) "
   ]
  },
  {
   "cell_type": "markdown",
   "metadata": {},
   "source": [
    "## Matches in Every Season"
   ]
  },
  {
   "cell_type": "code",
   "execution_count": 5,
   "metadata": {},
   "outputs": [
    {
     "data": {
      "text/plain": [
       "2013    76\n",
       "2012    74\n",
       "2011    71\n",
       "Name: season, dtype: int64"
      ]
     },
     "execution_count": 5,
     "metadata": {},
     "output_type": "execute_result"
    }
   ],
   "source": [
    "matches['season'].value_counts().head(3)"
   ]
  },
  {
   "cell_type": "code",
   "execution_count": 6,
   "metadata": {
    "_kg_hide-input": true
   },
   "outputs": [
    {
     "ename": "NameError",
     "evalue": "name 'go' is not defined",
     "output_type": "error",
     "traceback": [
      "\u001b[0;31m---------------------------------------------------------------------------\u001b[0m",
      "\u001b[0;31mNameError\u001b[0m                                 Traceback (most recent call last)",
      "\u001b[0;32m<ipython-input-6-737d550b4fbb>\u001b[0m in \u001b[0;36m<module>\u001b[0;34m\u001b[0m\n\u001b[0;32m----> 1\u001b[0;31m \u001b[0mdata\u001b[0m \u001b[0;34m=\u001b[0m \u001b[0;34m[\u001b[0m\u001b[0mgo\u001b[0m\u001b[0;34m.\u001b[0m\u001b[0mHistogram\u001b[0m\u001b[0;34m(\u001b[0m\u001b[0mx\u001b[0m\u001b[0;34m=\u001b[0m\u001b[0mmatches\u001b[0m\u001b[0;34m[\u001b[0m\u001b[0;34m'season'\u001b[0m\u001b[0;34m]\u001b[0m\u001b[0;34m,\u001b[0m \u001b[0mmarker\u001b[0m\u001b[0;34m=\u001b[0m\u001b[0mdict\u001b[0m\u001b[0;34m(\u001b[0m\u001b[0mcolor\u001b[0m\u001b[0;34m=\u001b[0m\u001b[0;34m'#EB89B5'\u001b[0m\u001b[0;34m)\u001b[0m\u001b[0;34m,\u001b[0m\u001b[0mopacity\u001b[0m\u001b[0;34m=\u001b[0m\u001b[0;36m0.75\u001b[0m\u001b[0;34m)\u001b[0m\u001b[0;34m]\u001b[0m\u001b[0;34m\u001b[0m\u001b[0;34m\u001b[0m\u001b[0m\n\u001b[0m\u001b[1;32m      2\u001b[0m layout = go.Layout(title='Matches In Every Season ',xaxis=dict(title='Season',tickmode='linear'),\n\u001b[1;32m      3\u001b[0m                     yaxis=dict(title='Count'),bargap=0.2)\n\u001b[1;32m      4\u001b[0m \u001b[0;34m\u001b[0m\u001b[0m\n\u001b[1;32m      5\u001b[0m \u001b[0mfig\u001b[0m \u001b[0;34m=\u001b[0m \u001b[0mgo\u001b[0m\u001b[0;34m.\u001b[0m\u001b[0mFigure\u001b[0m\u001b[0;34m(\u001b[0m\u001b[0mdata\u001b[0m\u001b[0;34m=\u001b[0m\u001b[0mdata\u001b[0m\u001b[0;34m,\u001b[0m \u001b[0mlayout\u001b[0m\u001b[0;34m=\u001b[0m\u001b[0mlayout\u001b[0m\u001b[0;34m)\u001b[0m\u001b[0;34m\u001b[0m\u001b[0;34m\u001b[0m\u001b[0m\n",
      "\u001b[0;31mNameError\u001b[0m: name 'go' is not defined"
     ]
    }
   ],
   "source": [
    "data = [go.Histogram(x=matches['season'], marker=dict(color='#EB89B5'),opacity=0.75)]\n",
    "layout = go.Layout(title='Matches In Every Season ',xaxis=dict(title='Season',tickmode='linear'),\n",
    "                    yaxis=dict(title='Count'),bargap=0.2)\n",
    "\n",
    "fig = go.Figure(data=data, layout=layout)\n",
    "iplot(fig)"
   ]
  },
  {
   "cell_type": "markdown",
   "metadata": {},
   "source": [
    "The year 2013 has most number of matches.<br> \n",
    "May be due to **super over** (super over occurs when there is a tie in the score)\n",
    "\n",
    "<p> Moreover there are 10 teams in 2011, 9 in 2012 and 2013 "
   ]
  },
  {
   "cell_type": "markdown",
   "metadata": {},
   "source": [
    "## Matches Played vs Wins by Each Team"
   ]
  },
  {
   "cell_type": "code",
   "execution_count": null,
   "metadata": {},
   "outputs": [],
   "source": [
    "matches_played=pd.concat([matches['team1'],matches['team2']])\n",
    "matches_played=matches_played.value_counts().reset_index()\n",
    "matches_played.columns=['Team','Total Matches']\n",
    "matches_played['wins']=matches['winner'].value_counts().reset_index()['winner']\n",
    "\n",
    "matches_played.set_index('Team',inplace=True)"
   ]
  },
  {
   "cell_type": "code",
   "execution_count": null,
   "metadata": {},
   "outputs": [],
   "source": [
    "matches_played.reset_index().head(8)"
   ]
  },
  {
   "cell_type": "code",
   "execution_count": null,
   "metadata": {},
   "outputs": [],
   "source": [
    "win_percentage = round(matches_played['wins']/matches_played['Total Matches'],3)*100\n",
    "win_percentage.head(3)"
   ]
  },
  {
   "cell_type": "code",
   "execution_count": null,
   "metadata": {
    "_kg_hide-input": true
   },
   "outputs": [],
   "source": [
    "trace1 = go.Bar(x=matches_played.index,y=matches_played['Total Matches'],\n",
    "                name='Total Matches',opacity=0.4)\n",
    "\n",
    "trace2 = go.Bar(x=matches_played.index,y=matches_played['wins'],\n",
    "                name='Matches Won',marker=dict(color='red'),opacity=0.4)\n",
    "\n",
    "trace3 = go.Bar(x=matches_played.index,\n",
    "               y=(round(matches_played['wins']/matches_played['Total Matches'],3)*100),\n",
    "               name='Win Percentage',opacity=0.6,marker=dict(color='gold'))\n",
    "\n",
    "data = [trace1, trace2, trace3]\n",
    "\n",
    "layout = go.Layout(title='Match Played, Wins And Win Percentage',xaxis=dict(title='Team'),\n",
    "                   yaxis=dict(title='Count'),bargap=0.2,bargroupgap=0.1)\n",
    "\n",
    "fig = go.Figure(data=data, layout=layout)\n",
    "iplot(fig)"
   ]
  },
  {
   "cell_type": "markdown",
   "metadata": {},
   "source": [
    "Mumbai indians have most number of wins with most number of matches<br>\n",
    "Lets analyze Win Ratio of teams"
   ]
  },
  {
   "cell_type": "markdown",
   "metadata": {},
   "source": [
    "So MI is at top in winning matches<br>\n",
    "And **KXIP** is at last"
   ]
  },
  {
   "cell_type": "markdown",
   "metadata": {},
   "source": [
    "## Venue of Most Matches"
   ]
  },
  {
   "cell_type": "code",
   "execution_count": null,
   "metadata": {},
   "outputs": [],
   "source": [
    "venue_matches=matches.groupby('venue').count()[['id']].sort_values(by='id',ascending=False).head()\n",
    "ser = pd.Series(venue_matches['id']) \n",
    "ser"
   ]
  },
  {
   "cell_type": "code",
   "execution_count": null,
   "metadata": {
    "_kg_hide-input": true
   },
   "outputs": [],
   "source": [
    "venue_matches=matches.groupby('venue').count()[['id']].reset_index()\n",
    "\n",
    "data = [{\"x\": venue_matches['id'],\"y\": venue_matches['venue'], \n",
    "          \"marker\": {\"color\": \"lightblue\", \"size\": 12},\n",
    "         \"line\": {\"color\": \"red\",\"width\" : 2,\"dash\" : 'dash'},\n",
    "          \"mode\": \"markers+lines\", \"name\": \"Women\", \"type\": \"scatter\"}]\n",
    "\n",
    "layout = {\"title\": \"Stadiums and Matches\", \n",
    "          \"xaxis\": {\"title\": \"Matches Played\", }, \n",
    "          \"yaxis\": {\"title\": \"Stadiums\"},\n",
    "          \"autosize\":False,\"width\":900,\"height\":1000,\n",
    "          \"margin\": go.layout.Margin(l=340, r=0,b=100,t=100,pad=0)}\n",
    "\n",
    "fig = go.Figure(data=data, layout=layout)\n",
    "iplot(fig)"
   ]
  },
  {
   "cell_type": "markdown",
   "metadata": {},
   "source": [
    "<ul><li>So Eden Gardens, M Chinnaswamy, Wankhede and Feroz Shah Kotla are statiums with most matches\n",
    "    <li>Since Moslty eliminators, qualifiers and final of each season was here"
   ]
  },
  {
   "cell_type": "markdown",
   "metadata": {},
   "source": [
    "## Favorite Umpire"
   ]
  },
  {
   "cell_type": "code",
   "execution_count": null,
   "metadata": {},
   "outputs": [],
   "source": [
    "ump=pd.concat([matches['umpire1'],matches['umpire2']])\n",
    "ump=ump.value_counts()\n",
    "umps=ump.to_frame().reset_index()"
   ]
  },
  {
   "cell_type": "code",
   "execution_count": null,
   "metadata": {},
   "outputs": [],
   "source": [
    "ump.head()"
   ]
  },
  {
   "cell_type": "code",
   "execution_count": null,
   "metadata": {
    "_kg_hide-input": true
   },
   "outputs": [],
   "source": [
    "data = [go.Bar(x=umps['index'],y=umps[0],opacity=0.4)]\n",
    "\n",
    "layout = go.Layout(title='Umpires in Matches',\n",
    "                   yaxis=dict(title='Matches'),bargap=0.2)\n",
    "\n",
    "fig = go.Figure(data=data, layout=layout)\n",
    "iplot(fig)"
   ]
  },
  {
   "cell_type": "markdown",
   "metadata": {},
   "source": [
    "S ravi and HDPK Dhrmasena are most popular umpires in IPL"
   ]
  },
  {
   "cell_type": "markdown",
   "metadata": {},
   "source": [
    "## 1. Runs per Season"
   ]
  },
  {
   "cell_type": "markdown",
   "metadata": {},
   "source": [
    "### 1.1 Average and Total Runs"
   ]
  },
  {
   "cell_type": "code",
   "execution_count": null,
   "metadata": {},
   "outputs": [],
   "source": [
    "batsmen = matches[['id','season']].merge(deliveries, left_on = 'id', right_on = 'match_id', how = 'left').drop('id', axis = 1)\n",
    "season=batsmen.groupby(['season'])['total_runs'].sum().reset_index()\n",
    "\n",
    "avgruns_each_season=matches.groupby(['season']).count().id.reset_index()\n",
    "avgruns_each_season.rename(columns={'id':'matches'},inplace=1)\n",
    "avgruns_each_season['total_runs']=season['total_runs']\n",
    "avgruns_each_season['average_runs_per_match']=avgruns_each_season['total_runs']/avgruns_each_season['matches']"
   ]
  },
  {
   "cell_type": "code",
   "execution_count": null,
   "metadata": {
    "_kg_hide-input": true
   },
   "outputs": [],
   "source": [
    "fig = {\"data\" : [{\"x\" : season[\"season\"],\"y\" : season[\"total_runs\"],\n",
    "                  \"name\" : \"Total Run\",\"marker\" : {\"color\" : \"lightblue\",\"size\": 12},\n",
    "                  \"line\": {\"width\" : 3},\"type\" : \"scatter\",\"mode\" : \"lines+markers\" },\n",
    "        \n",
    "                 {\"x\" : season[\"season\"],\"y\" : avgruns_each_season[\"average_runs_per_match\"],\n",
    "                  \"name\" : \"Average Run\",\"marker\" : {\"color\" : \"brown\",\"size\": 12},\n",
    "                  \"type\" : \"scatter\",\"line\": {\"width\" : 3},\"mode\" : \"lines+markers\",\n",
    "                  \"xaxis\" : \"x2\",\"yaxis\" : \"y2\",}],\n",
    "       \n",
    "        \"layout\" : {\"title\": \"Total and Average run per Season\",\n",
    "                    \"xaxis2\" : {\"domain\" : [0, 1],\"anchor\" : \"y2\",\n",
    "                    \"showticklabels\" : False},\"margin\" : {\"b\" : 111},\n",
    "                    \"yaxis2\" : {\"domain\" : [.55, 1],\"anchor\" : \"x2\",\"title\": \"Average Run\"},                    \n",
    "                    \"xaxis\" : {\"domain\" : [0, 1],\"tickmode\":'linear',\"title\": \"Year\"},\n",
    "                    \"yaxis\" : {\"domain\" :[0, .45], \"title\": \"Total Run\"}}}\n",
    "\n",
    "iplot(fig)"
   ]
  },
  {
   "cell_type": "code",
   "execution_count": null,
   "metadata": {},
   "outputs": [],
   "source": [
    "avgruns_each_season.sort_values(by='total_runs', ascending=False).head(2)"
   ]
  },
  {
   "cell_type": "markdown",
   "metadata": {},
   "source": [
    "<ul><li> We see crest at 2012,2013 years (this is beacuse increase in no. of matches)\n",
    "    <li>Average runs per match increase over years"
   ]
  },
  {
   "cell_type": "markdown",
   "metadata": {},
   "source": [
    "### 1.2 Run Distribution Over Years"
   ]
  },
  {
   "cell_type": "code",
   "execution_count": null,
   "metadata": {},
   "outputs": [],
   "source": [
    "Season_boundaries=batsmen.groupby(\"season\")[\"batsman_runs\"].agg(lambda x: (x==6).sum()).reset_index()\n",
    "fours=batsmen.groupby(\"season\")[\"batsman_runs\"].agg(lambda x: (x==4).sum()).reset_index()\n",
    "Season_boundaries=Season_boundaries.merge(fours,left_on='season',right_on='season',how='left')\n",
    "Season_boundaries=Season_boundaries.rename(columns={'batsman_runs_x':'6\"s','batsman_runs_y':'4\"s'})"
   ]
  },
  {
   "cell_type": "code",
   "execution_count": null,
   "metadata": {
    "_kg_hide-input": true
   },
   "outputs": [],
   "source": [
    "Season_boundaries['6\"s'] = Season_boundaries['6\"s']*6\n",
    "Season_boundaries['4\"s'] = Season_boundaries['4\"s']*4\n",
    "Season_boundaries['total_runs'] = season['total_runs']"
   ]
  },
  {
   "cell_type": "code",
   "execution_count": null,
   "metadata": {
    "_kg_hide-input": true
   },
   "outputs": [],
   "source": [
    "trace1 = go.Bar(\n",
    "    x=Season_boundaries['season'],\n",
    "    y=Season_boundaries['total_runs']-(Season_boundaries['6\"s']+Season_boundaries['4\"s']),\n",
    "    name='Remaining runs',opacity=0.6)\n",
    "\n",
    "trace2 = go.Bar(\n",
    "    x=Season_boundaries['season'],\n",
    "    y=Season_boundaries['4\"s'],\n",
    "    name='Run by 4\"s',opacity=0.7)\n",
    "\n",
    "trace3 = go.Bar(\n",
    "    x=Season_boundaries['season'],\n",
    "    y=Season_boundaries['6\"s'],\n",
    "    name='Run by 6\"s',opacity=0.7)\n",
    "\n",
    "\n",
    "data = [trace1, trace2, trace3]\n",
    "layout = go.Layout(title=\"Run Distribution per year\",barmode='stack',xaxis = dict(tickmode='linear',title=\"Year\"),\n",
    "                                    yaxis = dict(title= \"Run Distribution\"))\n",
    "\n",
    "fig = go.Figure(data=data, layout=layout)\n",
    "iplot(fig)"
   ]
  },
  {
   "cell_type": "markdown",
   "metadata": {},
   "source": [
    "Just slight increase in runs by boundaries over years"
   ]
  },
  {
   "cell_type": "markdown",
   "metadata": {},
   "source": [
    "## 2. Target of 200 Runs or More"
   ]
  },
  {
   "cell_type": "code",
   "execution_count": null,
   "metadata": {},
   "outputs": [],
   "source": [
    "high_scores=deliveries.groupby(['match_id', 'inning','batting_team','bowling_team'])['total_runs'].sum().reset_index() \n",
    "high_scores=high_scores[high_scores['total_runs']>=200]\n",
    "high_scores.nlargest(10,'total_runs')"
   ]
  },
  {
   "cell_type": "code",
   "execution_count": null,
   "metadata": {
    "_kg_hide-input": true
   },
   "outputs": [],
   "source": [
    "high_scores=high_scores[high_scores.batting_team != 'GL']\n",
    "high_scores=high_scores[high_scores.bowling_team != 'RPS']\n",
    "high_scores=high_scores[high_scores.bowling_team != 'GL']\n",
    "high_scores=high_scores[high_scores.bowling_team != 'PW']"
   ]
  },
  {
   "cell_type": "markdown",
   "metadata": {},
   "source": [
    "### 2.1 How many times each Team scored > 200"
   ]
  },
  {
   "cell_type": "code",
   "execution_count": null,
   "metadata": {},
   "outputs": [],
   "source": [
    "high_scores=high_scores.groupby(['inning','batting_team']).count().reset_index()\n",
    "high_scores.drop([\"bowling_team\",\"total_runs\"],axis=1,inplace=True)\n",
    "high_scores.rename(columns={\"match_id\":\"total_times\"},inplace=True)\n",
    "\n",
    "high_scores_1 = high_scores[high_scores['inning']==1]\n",
    "high_scores_2 = high_scores[high_scores['inning']==2]"
   ]
  },
  {
   "cell_type": "code",
   "execution_count": null,
   "metadata": {},
   "outputs": [],
   "source": [
    "high_scores_1.sort_values(by = 'total_times',ascending=False).head(2)"
   ]
  },
  {
   "cell_type": "code",
   "execution_count": null,
   "metadata": {
    "_kg_hide-input": true
   },
   "outputs": [],
   "source": [
    "trace1 = go.Bar(x=high_scores_1['batting_team'],y=high_scores_1['total_times'],name='Ist Innings')\n",
    "trace2 = go.Bar(x=high_scores_2['batting_team'],y=high_scores_2['total_times'],name='IInd Innings')\n",
    "\n",
    "fig = tools.make_subplots(rows=1, cols=2, subplot_titles=('At Ist Innings','At IInd Innings'))\n",
    "\n",
    "fig.append_trace(trace1, 1, 1)\n",
    "fig.append_trace(trace2, 1, 2)\n",
    "\n",
    "iplot(fig)"
   ]
  },
  {
   "cell_type": "markdown",
   "metadata": {},
   "source": [
    "<ul><li> RCB followed by CSK are at top in creating targets of score greater than 200\n",
    "    <li> KXIP and CSK is at top in IInd innings while chasing target"
   ]
  },
  {
   "cell_type": "markdown",
   "metadata": {},
   "source": [
    "### 2.2 Is it possible to chase >200 Target"
   ]
  },
  {
   "cell_type": "code",
   "execution_count": null,
   "metadata": {
    "_kg_hide-input": true
   },
   "outputs": [],
   "source": [
    "high_scores=deliveries.groupby(['match_id', 'inning','batting_team','bowling_team'])['total_runs'].sum().reset_index()\n",
    "high_scores1=high_scores[high_scores['inning']==1]\n",
    "high_scores2=high_scores[high_scores['inning']==2]\n",
    "high_scores1=high_scores1.merge(high_scores2[['match_id','inning', 'total_runs']], on='match_id')\n",
    "high_scores1.rename(columns={'inning_x':'inning_1','inning_y':'inning_2','total_runs_x':'inning1_runs','total_runs_y':'inning2_runs'},inplace=True)\n",
    "high_scores1=high_scores1[high_scores1['inning1_runs']>=200]\n",
    "high_scores1['is_score_chased']=1\n",
    "high_scores1['is_score_chased'] = np.where(high_scores1['inning1_runs']<=high_scores1['inning2_runs'], 'yes', 'no')"
   ]
  },
  {
   "cell_type": "code",
   "execution_count": null,
   "metadata": {},
   "outputs": [],
   "source": [
    "slices=high_scores1['is_score_chased'].value_counts().reset_index().is_score_chased\n",
    "list(slices)\n",
    "labels=['No','Yes']\n",
    "slices"
   ]
  },
  {
   "cell_type": "code",
   "execution_count": null,
   "metadata": {
    "_kg_hide-input": true
   },
   "outputs": [],
   "source": [
    "trace0 = go.Pie(labels=labels, values=slices,\n",
    "              hoverinfo='label+value')\n",
    "\n",
    "layout=go.Layout(title='200 score chased ?')\n",
    "fig = go.Figure(data=[trace0], layout=layout)\n",
    "iplot(fig)"
   ]
  },
  {
   "cell_type": "markdown",
   "metadata": {},
   "source": [
    "**ooh! its hard to achieve this target only 17 out 100 target > 200 chased successfully**"
   ]
  },
  {
   "cell_type": "markdown",
   "metadata": {},
   "source": [
    "## 3. Average Score of  Each Team Per Season  "
   ]
  },
  {
   "cell_type": "code",
   "execution_count": null,
   "metadata": {},
   "outputs": [],
   "source": [
    "agg = matches[['id','season', 'winner', 'toss_winner', 'toss_decision', 'team1']].merge(deliveries, left_on = 'id', right_on = 'match_id', how = 'left').drop('id', axis = 1)\n",
    "batsman_grp = agg.groupby([\"season\",\"match_id\", \"inning\", \"batting_team\", \"batsman\"])\n",
    "batsmen = batsman_grp[\"batsman_runs\"].sum().reset_index()\n",
    "runs_scored = batsmen.groupby(['season','batting_team', 'batsman'])['batsman_runs'].agg(['sum','mean']).reset_index()\n",
    "runs_scored['mean']=round(runs_scored['mean'])"
   ]
  },
  {
   "cell_type": "code",
   "execution_count": null,
   "metadata": {
    "_kg_hide-input": true
   },
   "outputs": [],
   "source": [
    "agg_battingteam = agg.groupby(['season','match_id', 'inning', 'batting_team', 'bowling_team','winner'])['total_runs'].sum().reset_index()\n",
    "winner = agg_battingteam[agg_battingteam['batting_team'] == agg_battingteam['winner']]#agg_batting = agg_battingteam.groupby(['season', 'inning', 'team1','winner'])['total_runs'].sum().reset_index()\n",
    "winner_batting_first = winner[winner['inning'] == 1]\n",
    "winner_batting_second = winner[winner['inning'] == 2]\n",
    "\n",
    "winner_runs_batting_first = winner_batting_first.groupby(['season', 'winner'])['total_runs'].mean().reset_index().round()\n",
    "winner_runs_batting_second = winner_batting_second.groupby(['season', 'winner'])['total_runs'].mean().reset_index().round()\n",
    "\n",
    "winner_runs = winner_runs_batting_first.merge(winner_runs_batting_second, on = ['season','winner'])\n",
    "winner_runs.columns = ['season', 'winner', 'batting_first', 'batting_second']"
   ]
  },
  {
   "cell_type": "code",
   "execution_count": null,
   "metadata": {},
   "outputs": [],
   "source": [
    "total_win=matches.groupby(['season','winner']).count()[['id']].reset_index()\n",
    "winner_runs[\"wins\"]= total_win['id']"
   ]
  },
  {
   "cell_type": "code",
   "execution_count": null,
   "metadata": {
    "_kg_hide-input": true
   },
   "outputs": [],
   "source": [
    "winner_runs.sort_values(by = ['season'],inplace=True)\n",
    "\n",
    "csk= winner_runs[winner_runs['winner'] == 'CSK']\n",
    "rr= winner_runs[winner_runs['winner'] == 'RR']\n",
    "srh= winner_runs[winner_runs['winner'] == 'SRH']\n",
    "kkr= winner_runs[winner_runs['winner'] == 'KKR']\n",
    "mi= winner_runs[winner_runs['winner'] == 'MI']\n",
    "rcb= winner_runs[winner_runs['winner'] == 'RCB']\n",
    "kxip= winner_runs[winner_runs['winner'] == 'KXIP']\n",
    "dd= winner_runs[winner_runs['winner'] == 'DC']"
   ]
  },
  {
   "cell_type": "code",
   "execution_count": null,
   "metadata": {
    "_kg_hide-input": true,
    "scrolled": true
   },
   "outputs": [],
   "source": [
    "trace1 = go.Scatter(x=csk['season'],y = csk['batting_first'],name='Batting First')\n",
    "trace2 = go.Scatter(x=csk['season'],y = csk['batting_second'],name='Batting Second')\n",
    "trace3 = go.Scatter(x=rr['season'],y = rr['batting_first'],name='Batting First')\n",
    "trace4 = go.Scatter(x=rr['season'],y = rr['batting_second'],name='Batting Second')\n",
    "trace5 = go.Scatter(x=srh['season'],y = srh['batting_first'],name='Batting First')\n",
    "trace6 = go.Scatter(x=srh['season'],y = srh['batting_second'],name='Batting Second')\n",
    "trace7 = go.Scatter(x=kkr['season'],y = kkr['batting_first'],name='Batting First')\n",
    "trace8 = go.Scatter(x=kkr['season'],y = kkr['batting_second'],name='Batting Second')\n",
    "trace9 = go.Scatter(x=rcb['season'],y = rcb['batting_first'],name='Batting First')\n",
    "trace10 = go.Scatter(x=rcb['season'],y = rcb['batting_second'],name='Batting Second')\n",
    "trace11 = go.Scatter(x=kxip['season'],y = kxip['batting_first'],name='Batting First')\n",
    "trace12 = go.Scatter(x=kxip['season'],y = kxip['batting_second'],name='Batting Second')\n",
    "trace13 = go.Scatter(x=mi['season'],y = mi['batting_first'],name='Batting First')\n",
    "trace14 = go.Scatter(x=mi['season'],y = mi['batting_second'],name='Batting Second')\n",
    "trace15 = go.Scatter(x=dd['season'],y = dd['batting_first'],name='Batting First')\n",
    "trace16 = go.Scatter(x=dd['season'],y = dd['batting_second'],name='Batting Second')\n",
    "\n",
    "fig = tools.make_subplots(rows=4, cols=2, subplot_titles=('CSK', 'RR','SRH', 'KKR','RCB', 'KXIP','MI', 'DC'))\n",
    "\n",
    "fig.append_trace(trace1, 1, 1)\n",
    "fig.append_trace(trace2, 1, 1)\n",
    "fig.append_trace(trace3, 1, 2)\n",
    "fig.append_trace(trace4, 1, 2)\n",
    "fig.append_trace(trace5, 2, 1)\n",
    "fig.append_trace(trace6, 2, 1)\n",
    "fig.append_trace(trace7, 2, 2)\n",
    "fig.append_trace(trace8, 2, 2)\n",
    "fig.append_trace(trace9, 3, 1)\n",
    "fig.append_trace(trace10, 3, 1)\n",
    "fig.append_trace(trace11, 3, 2)\n",
    "fig.append_trace(trace12, 3, 2)\n",
    "fig.append_trace(trace13, 4, 1)\n",
    "fig.append_trace(trace14, 4, 1)\n",
    "fig.append_trace(trace15, 4, 2)\n",
    "fig.append_trace(trace16, 4, 2)\n",
    "\n",
    "fig['layout'].update(title='Batting first vs Batting Second of Teams',showlegend=False)\n",
    "iplot(fig)"
   ]
  },
  {
   "cell_type": "markdown",
   "metadata": {},
   "source": [
    "<ul><li> Every team able to create a better than in first innings than second\n",
    "    <li> Exception - KXIP ( Showing anamolous behavior :p)"
   ]
  },
  {
   "cell_type": "markdown",
   "metadata": {},
   "source": [
    "## 4. Runs Per over of Each Team"
   ]
  },
  {
   "cell_type": "code",
   "execution_count": null,
   "metadata": {},
   "outputs": [],
   "source": [
    "runs_per_over = deliveries.pivot_table(index=['over'],columns='batting_team',values='total_runs',aggfunc=sum)\n",
    "runs_per_over.reset_index(inplace=True)\n",
    "runs_per_over.drop(['KTK','PW','RPS','GL'],axis=1,inplace=True)"
   ]
  },
  {
   "cell_type": "code",
   "execution_count": null,
   "metadata": {
    "_kg_hide-input": true
   },
   "outputs": [],
   "source": [
    "trace1 = go.Scatter(x=runs_per_over['over'],y = runs_per_over['CSK'],name='CSK',marker= dict(color= \"blue\",size=12))\n",
    "trace2 = go.Scatter(x=runs_per_over['over'],y = runs_per_over['DC'],name='DC')\n",
    "trace3 = go.Scatter(x=runs_per_over['over'],y = runs_per_over['KKR'],name='KKR')\n",
    "trace4 = go.Scatter(x=runs_per_over['over'],y = runs_per_over['KXIP'],name='KXIP')\n",
    "trace5 = go.Scatter(x=runs_per_over['over'],y = runs_per_over['MI'],name='MI')\n",
    "trace6 = go.Scatter(x=runs_per_over['over'],y = runs_per_over['RCB'],name='RCB')\n",
    "trace7 = go.Scatter(x=runs_per_over['over'],y = runs_per_over['RR'],name='RR')\n",
    "trace8 = go.Scatter(x=runs_per_over['over'],y = runs_per_over['SRH'],name='SRH')\n",
    "\n",
    "data = [trace1,trace2,trace3,trace4,trace5,trace6,trace7,trace8]\n",
    "\n",
    "layout = go.Layout(title='Average Run in Each Over',xaxis = dict(tickmode='linear',title=\"Over\"),\n",
    "                                    yaxis = dict(title= \"Runs\"))\n",
    "\n",
    "fig = go.Figure(data=data,layout=layout)\n",
    "iplot(fig)"
   ]
  },
  {
   "cell_type": "markdown",
   "metadata": {},
   "source": [
    "<ul><li> Powerplay is upto six overs so there is dip in 7th over\n",
    "    <li> MI is best at Death over (Good Finishers/Tailenders)\n",
    "    <li> RR is worst among all in death, middle and powerplay overs"
   ]
  },
  {
   "cell_type": "markdown",
   "metadata": {},
   "source": [
    "## 5. PowerPlay Analysis\n",
    "Powerplay is of starting 6 overs in t20 matches<br>\n",
    "During the first six overs, a maximum of two fielders can be outside the 30-yard circle."
   ]
  },
  {
   "cell_type": "markdown",
   "metadata": {},
   "source": [
    "### 5.1 Runs in Powerplay of Each Match"
   ]
  },
  {
   "cell_type": "code",
   "execution_count": null,
   "metadata": {},
   "outputs": [],
   "source": [
    "season=matches[['id','season','winner']]\n",
    "complete_data=deliveries.merge(season,how='inner',left_on='match_id',right_on='id')"
   ]
  },
  {
   "cell_type": "code",
   "execution_count": null,
   "metadata": {},
   "outputs": [],
   "source": [
    "powerplay_data=complete_data[complete_data['over']<=6]\n",
    "\n",
    "inn1 = powerplay_data[ powerplay_data['inning']==1].groupby('match_id')['total_runs'].agg(['sum']).reset_index()\n",
    "inn2 = powerplay_data[ powerplay_data['inning']==2].groupby('match_id')['total_runs'].agg(['sum']).reset_index()"
   ]
  },
  {
   "cell_type": "code",
   "execution_count": null,
   "metadata": {
    "_kg_hide-input": true
   },
   "outputs": [],
   "source": [
    "inn1.reset_index(inplace=True)\n",
    "inn1.drop([\"match_id\"],axis=1,inplace=True)\n",
    "\n",
    "inn2.reset_index(inplace=True)\n",
    "inn2.drop([\"match_id\"],axis=1,inplace=True)"
   ]
  },
  {
   "cell_type": "code",
   "execution_count": null,
   "metadata": {
    "_kg_hide-input": true
   },
   "outputs": [],
   "source": [
    "fig = {\"data\" : [{\"x\" : inn1[\"index\"],\"y\" : inn1[\"sum\"],\"marker\" : {\"color\" : \"blue\",\"size\": 2},\n",
    "                  \"line\": {\"width\" : 1.5},\"type\" : \"scatter\",\"mode\" : \"lines\" },\n",
    "        \n",
    "                 {\"x\" : inn2[\"index\"],\"y\" : inn2[\"sum\"],\"marker\" : {\"color\" : \"brown\",\"size\": 2},\n",
    "                  \"type\" : \"scatter\",\"line\": {\"width\" : 1.5},\"mode\" : \"lines\",\n",
    "                  \"xaxis\" : \"x2\",\"yaxis\" : \"y2\",}],\n",
    "       \n",
    "        \"layout\" : {\"title\": \"Inning 1 vs Inning 2 in Powerplay Overs\",\n",
    "                    \"xaxis2\" : {\"domain\" : [0, 1],\"anchor\" : \"y2\",\n",
    "                    \"showticklabels\" : False},\n",
    "                    \"yaxis2\" : {\"domain\" : [.55, 1],\"anchor\" : \"x2\",\"title\": \"Inn2 Powerplay\"},\n",
    "                    \"margin\" : {\"b\" : 111},\n",
    "                    \"xaxis\" : {\"domain\" : [0, 1],\"title\": \"Matches\"},\n",
    "                    \"yaxis\" : {\"domain\" :[0, .45], \"title\": \"Inn1 Poweplay\"}}}\n",
    "\n",
    "iplot(fig)"
   ]
  },
  {
   "cell_type": "markdown",
   "metadata": {},
   "source": [
    "### 5.2 Powerplay Average Runs "
   ]
  },
  {
   "cell_type": "code",
   "execution_count": null,
   "metadata": {},
   "outputs": [],
   "source": [
    "pi1=powerplay_data[ powerplay_data['inning']==1].groupby(['season','match_id'])['total_runs'].agg(['sum'])\n",
    "pi1=pi1.reset_index().groupby('season')['sum'].mean()\n",
    "pi1=pi1.to_frame().reset_index()\n",
    "\n",
    "pi2=powerplay_data[ powerplay_data['inning']==2].groupby(['season','match_id'])['total_runs'].agg(['sum'])\n",
    "pi2=pi2.reset_index().groupby('season')['sum'].mean()\n",
    "pi2=pi2.to_frame().reset_index()"
   ]
  },
  {
   "cell_type": "code",
   "execution_count": null,
   "metadata": {
    "_kg_hide-input": true
   },
   "outputs": [],
   "source": [
    "trace1 = go.Bar(x=pi1.season,y=pi1[\"sum\"],\n",
    "                name='Inning 1',opacity=0.4)\n",
    "\n",
    "trace2 = go.Bar(x=pi2.season,y=pi2[\"sum\"],name='Inning 2',\n",
    "                marker=dict(color='red'),opacity=0.4)\n",
    "\n",
    "data = [trace1, trace2]\n",
    "layout = go.Layout(title='Powerplay Average runs per Year',\n",
    "                   xaxis=dict(title='Year',tickmode='linear'),\n",
    "                   yaxis=dict(title='Run'),bargap=0.2,bargroupgap=0.1)\n",
    "\n",
    "fig = go.Figure(data=data, layout=layout)\n",
    "iplot(fig)"
   ]
  },
  {
   "cell_type": "markdown",
   "metadata": {},
   "source": [
    "So there is increase in runs in powerplay in last few years"
   ]
  },
  {
   "cell_type": "markdown",
   "metadata": {},
   "source": [
    "### 5.3 Powerplay Average Dismissals"
   ]
  },
  {
   "cell_type": "code",
   "execution_count": null,
   "metadata": {},
   "outputs": [],
   "source": [
    "powerplay_dismissals=powerplay_data.dropna(subset=['dismissal_kind']).groupby(['season','match_id','inning'])['dismissal_kind'].agg(['count']).reset_index().groupby('season')['count'].max()\n",
    "powerplay_dismissals=powerplay_dismissals.reset_index()\n",
    "\n",
    "powerplay_dismissals_first=powerplay_data[ powerplay_data['inning']==1].dropna(subset=['dismissal_kind']).groupby(['season','match_id','inning'])['dismissal_kind'].agg(['count']).reset_index().groupby('season')['count'].mean()\n",
    "powerplay_dismissals_first=powerplay_dismissals_first.reset_index()\n",
    "\n",
    "powerplay_dismissals_second=powerplay_data[ powerplay_data['inning']==2].dropna(subset=['dismissal_kind']).groupby(['season','match_id','inning'])['dismissal_kind'].agg(['count']).reset_index().groupby('season')['count'].mean()\n",
    "powerplay_dismissals_second=powerplay_dismissals_second.reset_index()"
   ]
  },
  {
   "cell_type": "code",
   "execution_count": null,
   "metadata": {
    "_kg_hide-input": true
   },
   "outputs": [],
   "source": [
    "trace1 = go.Bar(x=powerplay_dismissals.season,y=powerplay_dismissals[\"count\"],\n",
    "                name='Max',opacity=0.4)\n",
    "\n",
    "trace2 = go.Bar(x=powerplay_dismissals_first.season,y=powerplay_dismissals_first[\"count\"],name='Inning 1',\n",
    "                marker=dict(color='red'),opacity=0.4)\n",
    "\n",
    "trace3 = go.Bar(x=powerplay_dismissals_second.season,y=powerplay_dismissals_second[\"count\"],name='Inning 2',\n",
    "                marker=dict(color='lime'),opacity=0.4)\n",
    "\n",
    "data = [trace1, trace2, trace3]\n",
    "layout = go.Layout(title='Powerplay Average Dismissals per Year',\n",
    "                   xaxis=dict(title='Year',tickmode='linear'),\n",
    "                   yaxis=dict(title='Run'),bargap=0.2,bargroupgap=0.1)\n",
    "\n",
    "fig = go.Figure(data=data, layout=layout)\n",
    "iplot(fig)"
   ]
  },
  {
   "cell_type": "markdown",
   "metadata": {},
   "source": [
    "<ul><li> Maximum fall of wickets in powerplay overs set new recort in 2019\n",
    "    <li> Dismissals in 2nd innings decrease significantly in 2019 "
   ]
  },
  {
   "cell_type": "markdown",
   "metadata": {},
   "source": [
    "## 6. Batsman Data"
   ]
  },
  {
   "cell_type": "code",
   "execution_count": null,
   "metadata": {
    "_kg_hide-input": true
   },
   "outputs": [],
   "source": [
    "df_strike_rate = deliveries.groupby(['batsman']).agg({'ball':'count','batsman_runs':'mean'}).sort_values(by='batsman_runs',ascending=False)\n",
    "df_strike_rate.rename(columns ={'batsman_runs' : 'strike rate'}, inplace=True)\n",
    "df_runs_per_match = deliveries.groupby(['batsman','match_id']).agg({'batsman_runs':'sum'})\n",
    "df_total_runs = df_runs_per_match.groupby(['batsman']).agg({'sum' ,'mean','count'})\n",
    "df_total_runs.rename(columns ={'sum' : 'batsman run','count' : 'match count','mean' :'average score'}, inplace=True)\n",
    "df_total_runs.columns = df_total_runs.columns.droplevel()\n",
    "df_sixes = deliveries[['batsman','batsman_runs']][deliveries.batsman_runs==6].groupby(['batsman']).agg({'batsman_runs':'count'})\n",
    "df_four = deliveries[['batsman','batsman_runs']][deliveries.batsman_runs==4].groupby(['batsman']).agg({'batsman_runs':'count'})\n",
    "df_batsman_stat = pd.merge(pd.merge(pd.merge(df_strike_rate,df_total_runs, left_index=True, right_index=True),\n",
    "                                    df_sixes, left_index=True, right_index=True),df_four, left_index=True, right_index=True)"
   ]
  },
  {
   "cell_type": "code",
   "execution_count": null,
   "metadata": {},
   "outputs": [],
   "source": [
    "df_batsman_stat.rename(columns = {'ball' : 'ball', 'strike rate':'strike_rate','batsman run' : 'batsman_run',\n",
    "                                  'match count' : 'match_count','average score' : 'average_score' ,'batsman_runs_x' :'six',\n",
    "                                  'batsman_runs_y':'four'},inplace=True)\n",
    "df_batsman_stat['strike_rate'] = df_batsman_stat['strike_rate']*100\n",
    "df_batsman_stat.sort_values(by='batsman_run',ascending=False,inplace=True)\n",
    "#df_batsman_stat.sort_values(by='batsman_run',ascending=False)\n",
    "df_batsman_stat.reset_index(inplace=True)"
   ]
  },
  {
   "cell_type": "markdown",
   "metadata": {},
   "source": [
    "### 6.1 Highest Average and Strike rate for >50 Matches"
   ]
  },
  {
   "cell_type": "code",
   "execution_count": null,
   "metadata": {},
   "outputs": [],
   "source": [
    "average_score=df_batsman_stat.sort_values(by='average_score',ascending=False)\n",
    "average_score=average_score[average_score['match_count']>50].head(10)\n",
    "\n",
    "strike_rate=df_batsman_stat.sort_values(by='strike_rate',ascending=False)\n",
    "strike_rate=strike_rate[strike_rate['match_count']>50].head(10)"
   ]
  },
  {
   "cell_type": "code",
   "execution_count": null,
   "metadata": {
    "_kg_hide-input": true
   },
   "outputs": [],
   "source": [
    "trace1 = go.Bar(x=average_score['batsman'],y=average_score['average_score'],\n",
    "                name='Average Score',marker=dict(color='gold'),opacity=0.6,showlegend=False)\n",
    "\n",
    "trace2 = go.Bar(x=strike_rate['batsman'],y=strike_rate['strike_rate'],\n",
    "                name='Strike Rate',marker=dict(color='brown'),opacity=0.6,showlegend=False)\n",
    "\n",
    "fig = tools.make_subplots(rows=1, cols=2, subplot_titles=('Highest Average Score','Highest Strike Rate'))\n",
    "\n",
    "fig.append_trace(trace1, 1, 1)\n",
    "fig.append_trace(trace2, 1, 2)\n",
    "\n",
    "fig['layout']['xaxis1'].update(title='Player')\n",
    "fig['layout']['xaxis2'].update(title='Player')\n",
    "\n",
    "iplot(fig)"
   ]
  },
  {
   "cell_type": "markdown",
   "metadata": {},
   "source": [
    "No doubt **Warner, Gayle and Pant** are best in terms of both strike rate and average run rate"
   ]
  },
  {
   "cell_type": "markdown",
   "metadata": {},
   "source": [
    "### 6.2 Top 20 Batsman"
   ]
  },
  {
   "cell_type": "code",
   "execution_count": null,
   "metadata": {},
   "outputs": [],
   "source": [
    "top_df_batsman=df_batsman_stat.head(20)\n",
    "top_df_batsman.head(5)"
   ]
  },
  {
   "cell_type": "code",
   "execution_count": null,
   "metadata": {
    "_kg_hide-input": true
   },
   "outputs": [],
   "source": [
    "data=[{\"y\": top_df_batsman.match_count,\n",
    "        \"x\": top_df_batsman.batsman,\n",
    "        \"mode\":\"markers\",\n",
    "        \"marker\":{\"color\":top_df_batsman.six,\"size\" :top_df_batsman.average_score,'showscale': True},\n",
    "        \"text\":top_df_batsman.batsman }]\n",
    "\n",
    "iplot(data)"
   ]
  },
  {
   "cell_type": "markdown",
   "metadata": {},
   "source": [
    "<ul><li>Virat Kohli has highest total runs across all seasons. Raina is just few runs behind with the second spot\n",
    "    <li>Average Score and 6\"s by Parthiv Patel is lowest among top 20 batsmen\n",
    "    <li>Gayle is at top in 6\"s"
   ]
  },
  {
   "cell_type": "markdown",
   "metadata": {},
   "source": [
    "### 6.3 Top 10 Batsman in each run category"
   ]
  },
  {
   "cell_type": "code",
   "execution_count": null,
   "metadata": {},
   "outputs": [],
   "source": [
    "toppers=deliveries.groupby(['batsman','batsman_runs'])['total_runs'].count().reset_index()\n",
    "toppers=toppers.pivot('batsman','batsman_runs','total_runs')\n",
    "toppers.reset_index(inplace=True)"
   ]
  },
  {
   "cell_type": "code",
   "execution_count": null,
   "metadata": {
    "_kg_hide-input": true
   },
   "outputs": [],
   "source": [
    "top_6 = toppers.sort_values(6,ascending=False).head(10)\n",
    "top_4 = toppers.sort_values(4,ascending=False).head(10)\n",
    "top_2 = toppers.sort_values(2,ascending=False).head(10)\n",
    "top_1 = toppers.sort_values(1,ascending=False).head(10)"
   ]
  },
  {
   "cell_type": "code",
   "execution_count": null,
   "metadata": {
    "_kg_hide-input": true
   },
   "outputs": [],
   "source": [
    "trace1 = go.Scatter(x=top_6.batsman,y =top_6[6],name='6\"s',marker =dict(color= \"blue\",size = 9),line=dict(width=2,dash='dash'))\n",
    "trace2 = go.Scatter(x=top_4.batsman,y = top_4[4],name='4\"s',marker =dict(color= \"orange\",size = 9),line=dict(width=2,dash='longdash'))\n",
    "trace3 = go.Scatter(x=top_2.batsman,y = top_2[2],name='2\"s',marker =dict(color= \"green\",size = 9),line=dict(width=2,dash='dashdot'))\n",
    "trace4 = go.Scatter(x=top_1.batsman,y = top_1[1],name='1\"s',marker =dict(color= \"red\",size = 9),line=dict(width=2,dash='longdashdot'))\n",
    "\n",
    "fig = tools.make_subplots(rows=4, cols=1, subplot_titles=('Top 6\"s Scorer','Top 4\"s Scorer',\n",
    "                                                          'Top 2\"s Scorer','Top 1\"s Scorer'))\n",
    "\n",
    "fig.append_trace(trace1, 1, 1)\n",
    "fig.append_trace(trace2, 2, 1)\n",
    "fig.append_trace(trace3, 3, 1)\n",
    "fig.append_trace(trace4, 4, 1)\n",
    "\n",
    "fig['layout'].update(title='Top Scorer in each Category',showlegend=False)\n",
    "iplot(fig)"
   ]
  },
  {
   "cell_type": "markdown",
   "metadata": {},
   "source": [
    "<ul><li> Difference between 6\"s by Gayle(1st) and AB de Villiers(2nd) is of 113\n",
    "    <li> Many caribbean players are in top list of 6\"s and 4\"s"
   ]
  },
  {
   "cell_type": "markdown",
   "metadata": {},
   "source": [
    "### 6.4 Orange Cap Holders"
   ]
  },
  {
   "cell_type": "code",
   "execution_count": null,
   "metadata": {},
   "outputs": [],
   "source": [
    "orange=matches[['id','season']]\n",
    "orange=orange.merge(deliveries,left_on='id',right_on='match_id',how='left')\n",
    "orange=orange.groupby(['season','batsman'])['batsman_runs'].sum().reset_index()\n",
    "orange=orange.sort_values('batsman_runs',ascending=0)\n",
    "orange=orange.drop_duplicates(subset=[\"season\"],keep=\"first\")\n",
    "#orange.sort_values(by='season')"
   ]
  },
  {
   "cell_type": "code",
   "execution_count": null,
   "metadata": {
    "_kg_hide-input": true
   },
   "outputs": [],
   "source": [
    "data = [go.Bar(x=orange['season'].values,y=orange['batsman_runs'].values,\n",
    "                name='Total Matches',text=orange['batsman'].values,\n",
    "                marker=dict(color='rgb(255,140,0)',\n",
    "                            line=dict(color='rgb(8,48,107)',width=1.5,)),opacity=0.7)]\n",
    "\n",
    "layout = go.Layout(title='Orange-Cap Holders',xaxis = dict(tickmode='linear',title=\"Year\"),\n",
    "                   yaxis=dict(title='Runs'))\n",
    "fig = go.Figure(data=data, layout=layout)\n",
    "iplot(fig)"
   ]
  },
  {
   "cell_type": "markdown",
   "metadata": {},
   "source": [
    "<ul><li> Virat kohli owned Orange cap with highesr 973 runs in 2016"
   ]
  },
  {
   "cell_type": "markdown",
   "metadata": {},
   "source": [
    "## 7. Bowlers Analysis"
   ]
  },
  {
   "cell_type": "markdown",
   "metadata": {},
   "source": [
    "### 7.1 Best Bowler in Each category"
   ]
  },
  {
   "cell_type": "code",
   "execution_count": null,
   "metadata": {
    "_kg_hide-input": false
   },
   "outputs": [],
   "source": [
    "bowlers=deliveries.groupby('bowler').sum().reset_index()\n",
    "bowl=deliveries['bowler'].value_counts().reset_index()\n",
    "bowlers=bowlers.merge(bowl,left_on='bowler',right_on='index',how='left')\n",
    "bowlers=bowlers[['bowler_x','total_runs','bowler_y']]\n",
    "bowlers.rename({'bowler_x':'bowler','total_runs':'runs_given','bowler_y':'balls'},axis=1,inplace=True)\n",
    "bowlers['overs']=(bowlers['balls']//6)"
   ]
  },
  {
   "cell_type": "code",
   "execution_count": null,
   "metadata": {
    "_kg_hide-input": true
   },
   "outputs": [],
   "source": [
    "dismissal_kinds = [\"bowled\", \"caught\", \"lbw\", \"stumped\", \"caught and bowled\", \"hit wicket\"]  \n",
    "ct=deliveries[deliveries[\"dismissal_kind\"].isin(dismissal_kinds)]\n",
    "ct=ct['bowler'].value_counts().reset_index()\n",
    "bowlers=bowlers.merge(ct,left_on='bowler',right_on='index',how='left').dropna()\n",
    "bowlers=bowlers[['bowler_x','runs_given','overs','bowler_y']]\n",
    "bowlers.rename({'bowler_x':'bowler','bowler_y':'wickets'},axis=1,inplace=True)\n",
    "bowlers['economy']=(bowlers['runs_given']/bowlers['overs'])"
   ]
  },
  {
   "cell_type": "code",
   "execution_count": null,
   "metadata": {},
   "outputs": [],
   "source": [
    "bowlers_top=bowlers.sort_values(by='runs_given',ascending=False)\n",
    "bowlers_top=bowlers_top.head(20)"
   ]
  },
  {
   "cell_type": "code",
   "execution_count": null,
   "metadata": {
    "_kg_hide-input": true
   },
   "outputs": [],
   "source": [
    "trace = go.Scatter(y = bowlers_top['wickets'],x = bowlers_top['bowler'],mode='markers',\n",
    "                   marker=dict(size= bowlers_top['wickets'].values,\n",
    "                               color = bowlers_top['economy'].values,\n",
    "                               colorscale='Viridis',\n",
    "                               showscale=True,\n",
    "                               colorbar = dict(title = 'Economy')),\n",
    "                   text = bowlers['overs'].values)\n",
    "\n",
    "data = [(trace)]\n",
    "\n",
    "layout= go.Layout(autosize= True,\n",
    "                  title= 'Top 20 Wicket Taking Bowlers',\n",
    "                  hovermode= 'closest',\n",
    "                  xaxis=dict(showgrid=False,zeroline=False,\n",
    "                             showline=False),\n",
    "                  yaxis=dict(title= 'Wickets Taken',ticklen= 5,\n",
    "                             gridwidth= 2,showgrid=False,\n",
    "                             zeroline=False,showline=False),\n",
    "                  showlegend= False)\n",
    "\n",
    "fig = go.Figure(data=data, layout=layout)\n",
    "iplot(fig)"
   ]
  },
  {
   "cell_type": "markdown",
   "metadata": {},
   "source": [
    "<ul><li> Hightest wicket taker is Malinga\n",
    "    <li> Piyush Chawla give highest runs among all"
   ]
  },
  {
   "cell_type": "markdown",
   "metadata": {},
   "source": [
    "### 7.2 Purple Cap Holders"
   ]
  },
  {
   "cell_type": "code",
   "execution_count": null,
   "metadata": {},
   "outputs": [],
   "source": [
    "dismissal_kinds = [\"bowled\", \"caught\", \"lbw\", \"stumped\", \"caught and bowled\", \"hit wicket\"]  #since run-out is not creditted to the bowler\n",
    "purple=deliveries[deliveries[\"dismissal_kind\"].isin(dismissal_kinds)]\n",
    "purple=purple.merge(matches,left_on='match_id',right_on='id',how='outer')\n",
    "purple=purple.groupby(['season','bowler'])['dismissal_kind'].count().reset_index()\n",
    "purple=purple.sort_values('dismissal_kind',ascending=False)\n",
    "purple=purple.drop_duplicates('season',keep='first').sort_values(by='season')\n",
    "purple.rename({'dismissal_kind':'count_wickets'},axis=1,inplace=True)"
   ]
  },
  {
   "cell_type": "code",
   "execution_count": null,
   "metadata": {
    "_kg_hide-input": true
   },
   "outputs": [],
   "source": [
    "trace1 = go.Bar(x=purple['season'].values,y=purple['count_wickets'].values,\n",
    "                name='Total Matches',text=purple['bowler'].values,\n",
    "                marker=dict(color='rgb(75,0,130)',\n",
    "                            line=dict(color='rgb(108,148,107)',width=1.5,)),\n",
    "                opacity=0.7)\n",
    "\n",
    "layout = go.Layout(title='Purple-Cap Holders',xaxis = dict(tickmode='linear',title=\"Year\"),\n",
    "                   yaxis=dict(title='Wickets'))\n",
    "\n",
    "data=[trace1]\n",
    "fig = go.Figure(data=data, layout=layout)\n",
    "iplot(fig)"
   ]
  },
  {
   "cell_type": "markdown",
   "metadata": {},
   "source": [
    "<ul><li> DJ Brave owned Purple cap with highest 32 wickets in 2013"
   ]
  },
  {
   "cell_type": "markdown",
   "metadata": {},
   "source": [
    "## 8. Winner Analysis"
   ]
  },
  {
   "cell_type": "code",
   "execution_count": null,
   "metadata": {},
   "outputs": [],
   "source": [
    "season_winner=matches.drop_duplicates(subset=['season'], keep='last')[['season','winner']].reset_index(drop=True)\n",
    "season_winner = season_winner['winner'].value_counts()\n",
    "\n",
    "season_winner = season_winner.to_frame()\n",
    "season_winner.reset_index(inplace=True)\n",
    "season_winner.rename(columns={'index':'team'},inplace=True)"
   ]
  },
  {
   "cell_type": "markdown",
   "metadata": {},
   "source": [
    "### 8.1 Which team win highest no. of seasons"
   ]
  },
  {
   "cell_type": "code",
   "execution_count": null,
   "metadata": {},
   "outputs": [],
   "source": [
    "season_winner"
   ]
  },
  {
   "cell_type": "code",
   "execution_count": null,
   "metadata": {
    "_kg_hide-input": true
   },
   "outputs": [],
   "source": [
    "trace0 = go.Pie(labels=season_winner['team'], values=season_winner['winner'],\n",
    "              hoverinfo='label+value+name',name=\"Winner\")\n",
    "\n",
    "layout=go.Layout(title='Winner of IPL season')\n",
    "fig = go.Figure(data=[trace0], layout=layout)\n",
    "iplot(fig)"
   ]
  },
  {
   "cell_type": "markdown",
   "metadata": {},
   "source": [
    "<ul><li> MI win 4 seasons of IPL\n",
    "    <li> DC, KXIP, RCB don't get any title yet"
   ]
  },
  {
   "cell_type": "markdown",
   "metadata": {},
   "source": [
    "### 8.2 Match Played vs wins in Final Match of Every Season"
   ]
  },
  {
   "cell_type": "code",
   "execution_count": null,
   "metadata": {
    "_kg_hide-input": true
   },
   "outputs": [],
   "source": [
    "finals=matches.drop_duplicates(subset=['season'],keep='last')\n",
    "finals=finals[['id','season','city','team1','team2','toss_winner','toss_decision','winner']]\n",
    "most_finals=pd.concat([finals['team1'],finals['team2']]).value_counts().reset_index()\n",
    "most_finals.rename({'index':'team',0:'count'},axis=1,inplace=True)\n",
    "xyz=finals['winner'].value_counts().reset_index()"
   ]
  },
  {
   "cell_type": "code",
   "execution_count": null,
   "metadata": {},
   "outputs": [],
   "source": [
    "most_finals=most_finals.merge(xyz,left_on='team',right_on='index',how='outer')\n",
    "most_finals=most_finals.replace(np.NaN,0)\n",
    "most_finals.drop('index',axis=1,inplace=True)\n",
    "most_finals.set_index('team',inplace=True)\n",
    "most_finals.rename({'count':'finals_played','winner':'won_count'},inplace=True,axis=1)\n",
    "most_finals.reset_index(inplace=True)"
   ]
  },
  {
   "cell_type": "code",
   "execution_count": null,
   "metadata": {
    "_kg_hide-input": true
   },
   "outputs": [],
   "source": [
    "trace1 = go.Bar(x=most_finals.team,y=most_finals.finals_played,\n",
    "                name='Total Matches',opacity=0.4)\n",
    "\n",
    "trace2 = go.Bar(x=most_finals.team,y=most_finals.won_count,\n",
    "                name='Matches Won',marker=dict(color='red'),opacity=0.4)\n",
    "\n",
    "data = [trace1, trace2]\n",
    "\n",
    "layout = go.Layout(title='Match Played vs Wins In Finals',xaxis=dict(title='Team'),\n",
    "                   yaxis=dict(title='Count'),bargap=0.2,bargroupgap=0.1)\n",
    "\n",
    "fig = go.Figure(data=data, layout=layout)\n",
    "iplot(fig)"
   ]
  },
  {
   "cell_type": "markdown",
   "metadata": {},
   "source": [
    "<ul><li>CSK play 8 out of 12 finals of IPL\n",
    "    <li>MI win 4 out of 5 finals\n",
    "    <li>DC don't play any final yet"
   ]
  },
  {
   "cell_type": "markdown",
   "metadata": {},
   "source": [
    "### 8.3 Is Toss Decision is Final Decision in Finals ?"
   ]
  },
  {
   "cell_type": "code",
   "execution_count": null,
   "metadata": {},
   "outputs": [],
   "source": [
    "df=finals[finals['toss_winner']==finals['winner']]\n",
    "slices=[len(df),(len(finals)-len(df))]\n",
    "labels=['yes','no']"
   ]
  },
  {
   "cell_type": "code",
   "execution_count": null,
   "metadata": {
    "_kg_hide-input": true
   },
   "outputs": [],
   "source": [
    "trace0 = go.Pie(labels=labels, values=slices,\n",
    "              hoverinfo='label+value+name',name=\"Winner\")\n",
    "\n",
    "layout=go.Layout(title='Winner of IPL season')\n",
    "fig = go.Figure(data=[trace0], layout=layout)\n",
    "iplot(fig)"
   ]
  },
  {
   "cell_type": "markdown",
   "metadata": {},
   "source": [
    "Voila !! Each 3 among 4 toss winners is match winner in Finals. That's Incredible"
   ]
  },
  {
   "cell_type": "markdown",
   "metadata": {},
   "source": [
    "I will keep updating the notebook as and when I get a new question to be analysed.<br>\n",
    "Thank You For Having A Look At This Notebook <p>\n",
    "\n",
    "Please **Upvote** if this was Helpful<br>\n",
    "\n",
    "And Analysis Part 2(Coming Soon) Related to **IPL Fantasy League** ;)\n",
    "\n",
    "<p> Update : <a href=\"https://www.kaggle.com/dude431/ipl-analysis-part-2-fantasy-league-edition\">Part 2 Analysis</a>"
   ]
  },
  {
   "cell_type": "code",
   "execution_count": null,
   "metadata": {},
   "outputs": [],
   "source": []
  }
 ],
 "metadata": {
  "kernelspec": {
   "display_name": "Python 3",
   "language": "python",
   "name": "python3"
  },
  "language_info": {
   "codemirror_mode": {
    "name": "ipython",
    "version": 3
   },
   "file_extension": ".py",
   "mimetype": "text/x-python",
   "name": "python",
   "nbconvert_exporter": "python",
   "pygments_lexer": "ipython3",
   "version": "3.7.6"
  }
 },
 "nbformat": 4,
 "nbformat_minor": 1
}
